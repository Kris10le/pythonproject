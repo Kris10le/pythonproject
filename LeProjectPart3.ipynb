{
 "cells": [
  {
   "cell_type": "markdown",
   "metadata": {},
   "source": [
    "<font size = \"5\">\n",
    "PROJECT PART 3: Written By Kristen Le"
   ]
  },
  {
   "cell_type": "code",
   "execution_count": 1,
   "metadata": {},
   "outputs": [],
   "source": [
    "from statsmodels.formula.api import ols\n",
    "import matplotlib.pyplot as plt\n",
    "from scipy import stats\n",
    "import pandas as pd\n",
    "import numpy as np\n",
    "from numpy import nan as NA\n",
    "import StatTests\n",
    "import xlwings as xw"
   ]
  },
  {
   "cell_type": "code",
   "execution_count": 2,
   "metadata": {},
   "outputs": [
    {
     "data": {
      "text/html": [
       "<div>\n",
       "<style scoped>\n",
       "    .dataframe tbody tr th:only-of-type {\n",
       "        vertical-align: middle;\n",
       "    }\n",
       "\n",
       "    .dataframe tbody tr th {\n",
       "        vertical-align: top;\n",
       "    }\n",
       "\n",
       "    .dataframe thead th {\n",
       "        text-align: right;\n",
       "    }\n",
       "</style>\n",
       "<table border=\"1\" class=\"dataframe\">\n",
       "  <thead>\n",
       "    <tr style=\"text-align: right;\">\n",
       "      <th></th>\n",
       "      <th>movie_title</th>\n",
       "      <th>budget</th>\n",
       "      <th>gross</th>\n",
       "      <th>release_year</th>\n",
       "      <th>release_date</th>\n",
       "      <th>runtime</th>\n",
       "      <th>rating_count</th>\n",
       "      <th>mpaa_rating</th>\n",
       "      <th>genre</th>\n",
       "      <th>average_movie_rating</th>\n",
       "    </tr>\n",
       "  </thead>\n",
       "  <tbody>\n",
       "    <tr>\n",
       "      <th>0</th>\n",
       "      <td>Look Who's Talking</td>\n",
       "      <td>7500000</td>\n",
       "      <td>296000000</td>\n",
       "      <td>1989</td>\n",
       "      <td>10/12/1989</td>\n",
       "      <td>93</td>\n",
       "      <td>73638</td>\n",
       "      <td>PG-13</td>\n",
       "      <td>Romance</td>\n",
       "      <td>5.9</td>\n",
       "    </tr>\n",
       "    <tr>\n",
       "      <th>1</th>\n",
       "      <td>Driving Miss Daisy</td>\n",
       "      <td>7500000</td>\n",
       "      <td>145793296</td>\n",
       "      <td>1989</td>\n",
       "      <td>12/13/1989</td>\n",
       "      <td>99</td>\n",
       "      <td>91075</td>\n",
       "      <td>PG</td>\n",
       "      <td>Comedy</td>\n",
       "      <td>7.4</td>\n",
       "    </tr>\n",
       "    <tr>\n",
       "      <th>2</th>\n",
       "      <td>Turner &amp; Hooch</td>\n",
       "      <td>13000000</td>\n",
       "      <td>71079915</td>\n",
       "      <td>1989</td>\n",
       "      <td>7/28/1989</td>\n",
       "      <td>100</td>\n",
       "      <td>91415</td>\n",
       "      <td>PG</td>\n",
       "      <td>Action</td>\n",
       "      <td>7.2</td>\n",
       "    </tr>\n",
       "    <tr>\n",
       "      <th>3</th>\n",
       "      <td>Born on the Fourth of July</td>\n",
       "      <td>14000000</td>\n",
       "      <td>161001698</td>\n",
       "      <td>1989</td>\n",
       "      <td>12/20/1989</td>\n",
       "      <td>145</td>\n",
       "      <td>91415</td>\n",
       "      <td>R</td>\n",
       "      <td>Action</td>\n",
       "      <td>7.2</td>\n",
       "    </tr>\n",
       "    <tr>\n",
       "      <th>4</th>\n",
       "      <td>Field of Dreams</td>\n",
       "      <td>15000000</td>\n",
       "      <td>84431625</td>\n",
       "      <td>1989</td>\n",
       "      <td>4/21/1989</td>\n",
       "      <td>107</td>\n",
       "      <td>101702</td>\n",
       "      <td>PG</td>\n",
       "      <td>Action</td>\n",
       "      <td>7.5</td>\n",
       "    </tr>\n",
       "    <tr>\n",
       "      <th>...</th>\n",
       "      <td>...</td>\n",
       "      <td>...</td>\n",
       "      <td>...</td>\n",
       "      <td>...</td>\n",
       "      <td>...</td>\n",
       "      <td>...</td>\n",
       "      <td>...</td>\n",
       "      <td>...</td>\n",
       "      <td>...</td>\n",
       "      <td>...</td>\n",
       "    </tr>\n",
       "    <tr>\n",
       "      <th>68</th>\n",
       "      <td>Lethal Weapon 3</td>\n",
       "      <td>35000000</td>\n",
       "      <td>321731527</td>\n",
       "      <td>1992</td>\n",
       "      <td>5/15/1992</td>\n",
       "      <td>118</td>\n",
       "      <td>148440</td>\n",
       "      <td>R</td>\n",
       "      <td>Action</td>\n",
       "      <td>6.7</td>\n",
       "    </tr>\n",
       "    <tr>\n",
       "      <th>69</th>\n",
       "      <td>Under Siege</td>\n",
       "      <td>35000000</td>\n",
       "      <td>156563139</td>\n",
       "      <td>1992</td>\n",
       "      <td>10/8/1992</td>\n",
       "      <td>103</td>\n",
       "      <td>71962</td>\n",
       "      <td>R</td>\n",
       "      <td>Action</td>\n",
       "      <td>6.5</td>\n",
       "    </tr>\n",
       "    <tr>\n",
       "      <th>70</th>\n",
       "      <td>Boomerang</td>\n",
       "      <td>40000000</td>\n",
       "      <td>70100000</td>\n",
       "      <td>1992</td>\n",
       "      <td>6/30/1992</td>\n",
       "      <td>117</td>\n",
       "      <td>24114</td>\n",
       "      <td>R</td>\n",
       "      <td>Romance</td>\n",
       "      <td>5.5</td>\n",
       "    </tr>\n",
       "    <tr>\n",
       "      <th>71</th>\n",
       "      <td>A League of Their Own</td>\n",
       "      <td>40000000</td>\n",
       "      <td>107458785</td>\n",
       "      <td>1992</td>\n",
       "      <td>7/1/1992</td>\n",
       "      <td>128</td>\n",
       "      <td>85932</td>\n",
       "      <td>PG</td>\n",
       "      <td>Comedy</td>\n",
       "      <td>7.2</td>\n",
       "    </tr>\n",
       "    <tr>\n",
       "      <th>72</th>\n",
       "      <td>The Last of the Mohicans</td>\n",
       "      <td>40000000</td>\n",
       "      <td>75505856</td>\n",
       "      <td>1992</td>\n",
       "      <td>9/25/1992</td>\n",
       "      <td>112</td>\n",
       "      <td>139000</td>\n",
       "      <td>R</td>\n",
       "      <td>Action</td>\n",
       "      <td>7.7</td>\n",
       "    </tr>\n",
       "  </tbody>\n",
       "</table>\n",
       "<p>73 rows × 10 columns</p>\n",
       "</div>"
      ],
      "text/plain": [
       "                   movie_title    budget      gross  release_year  \\\n",
       "0           Look Who's Talking   7500000  296000000          1989   \n",
       "1           Driving Miss Daisy   7500000  145793296          1989   \n",
       "2               Turner & Hooch  13000000   71079915          1989   \n",
       "3   Born on the Fourth of July  14000000  161001698          1989   \n",
       "4              Field of Dreams  15000000   84431625          1989   \n",
       "..                         ...       ...        ...           ...   \n",
       "68             Lethal Weapon 3  35000000  321731527          1992   \n",
       "69                 Under Siege  35000000  156563139          1992   \n",
       "70                   Boomerang  40000000   70100000          1992   \n",
       "71       A League of Their Own  40000000  107458785          1992   \n",
       "72    The Last of the Mohicans  40000000   75505856          1992   \n",
       "\n",
       "   release_date  runtime  rating_count mpaa_rating    genre  \\\n",
       "0    10/12/1989       93         73638       PG-13  Romance   \n",
       "1    12/13/1989       99         91075          PG   Comedy   \n",
       "2     7/28/1989      100         91415          PG   Action   \n",
       "3    12/20/1989      145         91415           R   Action   \n",
       "4     4/21/1989      107        101702          PG   Action   \n",
       "..          ...      ...           ...         ...      ...   \n",
       "68    5/15/1992      118        148440           R   Action   \n",
       "69    10/8/1992      103         71962           R   Action   \n",
       "70    6/30/1992      117         24114           R  Romance   \n",
       "71     7/1/1992      128         85932          PG   Comedy   \n",
       "72    9/25/1992      112        139000           R   Action   \n",
       "\n",
       "    average_movie_rating  \n",
       "0                    5.9  \n",
       "1                    7.4  \n",
       "2                    7.2  \n",
       "3                    7.2  \n",
       "4                    7.5  \n",
       "..                   ...  \n",
       "68                   6.7  \n",
       "69                   6.5  \n",
       "70                   5.5  \n",
       "71                   7.2  \n",
       "72                   7.7  \n",
       "\n",
       "[73 rows x 10 columns]"
      ]
     },
     "execution_count": 2,
     "metadata": {},
     "output_type": "execute_result"
    }
   ],
   "source": [
    "#reading in data\n",
    "df_movie=pd.read_csv('Movies.csv')\n",
    "df_rating=pd.read_csv('ConsumerRatings.csv')\n",
    "df_1 = pd.merge(df_movie, df_rating, on = 'movie_title')\n",
    "df_1"
   ]
  },
  {
   "cell_type": "markdown",
   "metadata": {},
   "source": [
    "<font size=\"10\">\n",
    "MENU"
   ]
  },
  {
   "cell_type": "code",
   "execution_count": null,
   "metadata": {},
   "outputs": [
    {
     "name": "stdout",
     "output_type": "stream",
     "text": [
      "\n",
      "MENU\n",
      "1. Calculate relationship between budget and its effect average movie rating\n",
      "2. Compare the means of gross profit by genre\n",
      "3. Compare average average movie rating of PG-13 mpaa versus PG mpaa\n",
      "4. Create a histogram\n",
      "5. Create a box plot\n",
      "6. Output the average of budget, gross, runtime, and rating count to Excel\n",
      "7. View average movie ratings by mpaa rating\n",
      "8. View average movie ratings that have an 8 or higher\n",
      "9. Quit\n"
     ]
    },
    {
     "name": "stdin",
     "output_type": "stream",
     "text": [
      "What is your choice:  4\n"
     ]
    },
    {
     "name": "stdout",
     "output_type": "stream",
     "text": [
      "\n",
      "Create a histogram\n",
      "['budget', 'gross', 'runtime']\n"
     ]
    },
    {
     "name": "stdin",
     "output_type": "stream",
     "text": [
      "Enter the column to graph:  gross\n"
     ]
    },
    {
     "data": {
      "image/png": "[encoded data removed]",
      "text/plain": [
       "<Figure size 432x288 with 1 Axes>"
      ]
     },
     "metadata": {
      "needs_background": "light"
     },
     "output_type": "display_data"
    },
    {
     "name": "stdout",
     "output_type": "stream",
     "text": [
      "\n",
      "MENU\n",
      "1. Calculate relationship between budget and its effect average movie rating\n",
      "2. Compare the means of gross profit by genre\n",
      "3. Compare average average movie rating of PG-13 mpaa versus PG mpaa\n",
      "4. Create a histogram\n",
      "5. Create a box plot\n",
      "6. Output the average of budget, gross, runtime, and rating count to Excel\n",
      "7. View average movie ratings by mpaa rating\n",
      "8. View average movie ratings that have an 8 or higher\n",
      "9. Quit\n"
     ]
    },
    {
     "name": "stdin",
     "output_type": "stream",
     "text": [
      "What is your choice:  5\n"
     ]
    },
    {
     "name": "stdout",
     "output_type": "stream",
     "text": [
      "\n",
      "Create a box plot\n",
      "Categories\n",
      "['release year', 'mpaa rating','genre']\n"
     ]
    },
    {
     "name": "stdin",
     "output_type": "stream",
     "text": [
      "Enter the category to graph:  release year\n"
     ]
    },
    {
     "data": {
      "image/png": "[encoded data removed]",
      "text/plain": [
       "<Figure size 432x288 with 1 Axes>"
      ]
     },
     "metadata": {
      "needs_background": "light"
     },
     "output_type": "display_data"
    },
    {
     "name": "stdout",
     "output_type": "stream",
     "text": [
      "\n",
      "MENU\n",
      "1. Calculate relationship between budget and its effect average movie rating\n",
      "2. Compare the means of gross profit by genre\n",
      "3. Compare average average movie rating of PG-13 mpaa versus PG mpaa\n",
      "4. Create a histogram\n",
      "5. Create a box plot\n",
      "6. Output the average of budget, gross, runtime, and rating count to Excel\n",
      "7. View average movie ratings by mpaa rating\n",
      "8. View average movie ratings that have an 8 or higher\n",
      "9. Quit\n"
     ]
    },
    {
     "name": "stdin",
     "output_type": "stream",
     "text": [
      "What is your choice:  3\n"
     ]
    },
    {
     "name": "stdout",
     "output_type": "stream",
     "text": [
      "\n",
      "Compare average average movie rating of PG-13 mpaa versus PG mpaa\n",
      "This is a test of equal variances with Ho: The variances are equal\n",
      "The t test statistic is 1.179 and the p-value is 0.2776\n",
      "Conclusion: Fail to Reject Ho: We can't reject that the variances are the same\n",
      "Ttest_indResult(statistic=-1.1140055460246396, pvalue=0.27192609868672024)\n",
      "This is a Two-Sample t test (assuming equal variances) of equal means with Ho: The group means are equal\n",
      "The t test statistic is -1.114 and the p-value is 0.2719\n",
      "Conclusion: Fail to Reject Ho: We can't reject that the means are the same\n"
     ]
    },
    {
     "data": {
      "image/png": "[encoded data removed]",
      "text/plain": [
       "<Figure size 432x288 with 1 Axes>"
      ]
     },
     "metadata": {
      "needs_background": "light"
     },
     "output_type": "display_data"
    },
    {
     "name": "stdout",
     "output_type": "stream",
     "text": [
      "\n",
      "MENU\n",
      "1. Calculate relationship between budget and its effect average movie rating\n",
      "2. Compare the means of gross profit by genre\n",
      "3. Compare average average movie rating of PG-13 mpaa versus PG mpaa\n",
      "4. Create a histogram\n",
      "5. Create a box plot\n",
      "6. Output the average of budget, gross, runtime, and rating count to Excel\n",
      "7. View average movie ratings by mpaa rating\n",
      "8. View average movie ratings that have an 8 or higher\n",
      "9. Quit\n"
     ]
    }
   ],
   "source": [
    "def runMenu(df_1):\n",
    "    quit = False\n",
    "    while quit == False:\n",
    "        print(\"\\nMENU\")\n",
    "        print(\"1. Calculate relationship between budget and its effect average movie rating\")\n",
    "        print(\"2. Compare the means of gross profit by genre\")\n",
    "        print(\"3. Compare average average movie rating of PG-13 mpaa versus PG mpaa\")\n",
    "        print(\"4. Create a histogram\")\n",
    "        print(\"5. Create a box plot\")\n",
    "        print(\"6. Output the average of budget, gross, runtime, and rating count to Excel\")\n",
    "        print(\"7. View average movie ratings by mpaa rating\")\n",
    "        print(\"8. View average movie ratings that have an 8 or higher\")\n",
    "        print(\"9. Quit\")\n",
    "        menu_choice = input(\"What is your choice: \")\n",
    "        try:\n",
    "            menu_choice = int(menu_choice) \n",
    "        except: \n",
    "            print(\"ERROR: Please enter 1, 2, 3, 4, 5, 6, 7, 8, 9 or 10\")\n",
    "            continue \n",
    "        if menu_choice not in [1, 2, 3, 4, 5, 6, 7, 8, 9, 10, 11]:\n",
    "            print(\"ERROR: Please enter 1, 2, 3, 4, 5, 6, 7, 8, 9 or 10\")\n",
    "        else:\n",
    "            if menu_choice == 1:\n",
    "        #regression\n",
    "                print(\"\\nCalculate relationship between budget and its effect average movie rating\")\n",
    "                model1 = ols(\"budget ~ average_movie_rating\",data=df_1).fit()\n",
    "                print(model1.summary())\n",
    "                xvar = 'budget'\n",
    "                yvar = 'average_movie_rating'\n",
    "                model = model1\n",
    "                print('Coefficients: ') #Parameters\n",
    "                print(model.params)\n",
    "                intercept = model.params[0]\n",
    "                slope = model.params[1]\n",
    "                print('Coeff X1: ', slope)\n",
    "                r2 = model.rsquared\n",
    "                print('R2: ', r2)\n",
    "                print('F Test Statistic: ', model.fvalue)\n",
    "                reg_p_val = model.f_pvalue\n",
    "                print('p-value: ',reg_p_val)\n",
    "                print('t Test Statistics: ')\n",
    "                print(model.tvalues)\n",
    "                print('t p-values: ')\n",
    "                print(model.pvalues)\n",
    "                if np.sign(slope) < 1:\n",
    "                    slsign = \"\"\n",
    "                else:\n",
    "                    slsign = \"+\"\n",
    "                regeq = f\"{yvar} = {round(intercept,3)} {slsign} {round(slope,3)} {xvar}\"\n",
    "                print(regeq)\n",
    "                x=df_1[xvar]\n",
    "                y=df_1[yvar]\n",
    "                plt.scatter(x,y,color='black')\n",
    "                xyCorr = round(x.corr(y),3)\n",
    "                plt.suptitle(f\"Correlation: {xyCorr}  R-Squared: {round(r2,4)}  p-value: {round(reg_p_val,4)}\")\n",
    "                plt.title(regeq, size=10)\n",
    "                predict_y = intercept + slope * x\n",
    "                #predict_y = model.predict() equivalent\n",
    "                plt.plot(x,predict_y,'r-')\n",
    "                plt.xlabel(xvar)\n",
    "                plt.ylabel(yvar)\n",
    "                plt.show()\n",
    "                resid = model.resid\n",
    "                predict_y = model.predict()\n",
    "                plt.scatter(predict_y, resid)\n",
    "                plt.suptitle(regeq)\n",
    "                plt.hlines(0,3.1,4.5) #horizontal line at 0 error\n",
    "                plt.ylabel('Residuals')\n",
    "                plt.xlabel('Predicted ' + yvar)\n",
    "                plt.show()\n",
    "                \n",
    "        #ANOVA\n",
    "            if menu_choice == 2:\n",
    "                print(\"\\nCompare the means of gross profit by genre\") \n",
    "                Romance = df_1[df_1['genre']=='Romance']\n",
    "                Action = df_1[df_1['genre']=='Action']\n",
    "                Comedy = df_1[df_1['genre']=='Comedy']\n",
    "                Family = df_1[df_1['genre']=='Family']\n",
    "                stats.f_oneway(Romance['gross'], Action['gross'], Comedy['gross'], Family['gross'])\n",
    "                f, f_p_val = stats.f_oneway(Romance['gross'], Action['gross'], Comedy['gross'], Family['gross'])\n",
    "                alpha = .05\n",
    "                print(\"This is a test of equal means with Ho: The means of all groups are equal/Ha: At least one group mean is different\")\n",
    "                print(f\"The F test statistic is {round(f,3)} and the p-value is {round(f_p_val,4)}\")\n",
    "                if f_p_val < alpha:\n",
    "                    print(\"Conclusion: Reject Ho: At least one group mean is different\")\n",
    "                    ANOVA_type = \"ANOVA: At least one group mean different\"\n",
    "                else:\n",
    "                    print(\"Conclusion: Fail to Reject Ho: We can't reject that the means are the same\")\n",
    "                    ANOVA_type = \"ANOVA: Group Means are the same\"\n",
    "                y=[Romance['gross'], Action['gross'], Comedy['gross'], Family['gross']]\n",
    "                plt.boxplot(y)\n",
    "                plt.title(f'F: {round(f,3)}, p-val: {round(f_p_val,4)}',size=10)\n",
    "                plt.suptitle(ANOVA_type,size=10)\n",
    "                plt.xticks(range(1,5),[f\"Romance: {round(Romance['gross'].mean(),2)}\",\n",
    "                                           f\"Action: {round(Action['gross'].mean(),2)}\",\n",
    "                                           f\"Comedy: {round(Comedy['gross'].mean(),2)}\",\n",
    "                                           f\"Family: {round(Family['gross'].mean(),2)}\"])\n",
    "                plt.xlabel('Tukey Result:Family genre differs in gross profit from the rest of the genres')\n",
    "                plt.ylabel('Average Gross')\n",
    "                plt.show()\n",
    "                \n",
    "        #t-test\n",
    "            if menu_choice == 3:\n",
    "                print(\"\\nCompare average average movie rating of PG-13 mpaa versus PG mpaa\") \n",
    "                PG13=df_1[df_1['mpaa_rating']=='PG-13']\n",
    "                PG=df_1[df_1['mpaa_rating']=='PG']\n",
    "                alpha = .05\n",
    "                t_var, p_val_var= stats.bartlett(PG13['average_movie_rating'],PG['average_movie_rating'])\n",
    "                print(\"This is a test of equal variances with Ho: The variances are equal\")\n",
    "                print(f\"The t test statistic is {round(t_var,3)} and the p-value is {round(p_val_var,4)}\")\n",
    "                if p_val_var < alpha:\n",
    "                    print(\"Conclusion: Reject Ho: The variances are not equal\")\n",
    "                    t_eq_var=False\n",
    "                    t_type='Welch (unequal variances) Two-Sample t test'\n",
    "                else:\n",
    "                    print(\"Conclusion: Fail to Reject Ho: We can't reject that the variances are the same\")\n",
    "                    t_eq_var=True\n",
    "                    t_type='Two-Sample t test (assuming equal variances)'     \n",
    "                print(stats.ttest_ind(PG13['average_movie_rating'],PG['average_movie_rating'],equal_var=t_eq_var))\n",
    "                alpha = .05\n",
    "                t_mean, p_val_mean = stats.ttest_ind(PG13['average_movie_rating'],PG['average_movie_rating'],equal_var=t_eq_var)\n",
    "                print(f\"This is a {t_type} of equal means with Ho: The group means are equal\")\n",
    "                print(f\"The t test statistic is {round(t_mean,3)} and the p-value is {round(p_val_mean,4)}\")\n",
    "                if p_val_mean < alpha:\n",
    "                    print(\"Conclusion: Reject Ho: The means are not equal\")\n",
    "                else:\n",
    "                    print(\"Conclusion: Fail to Reject Ho: We can't reject that the means are the same\")\n",
    "                y=[PG13['average_movie_rating'],PG['average_movie_rating']]\n",
    "                plt.boxplot(y)\n",
    "                plt.title(f't: {round(t_mean,3)}, p-val: {round(p_val_mean,4)}',size=10)\n",
    "                plt.suptitle(t_type,size=10)\n",
    "                plt.xticks(range(1,3),[f\"PG-13: {round(PG13['average_movie_rating'].mean(),2)}\",\n",
    "                                           f\"PG: {round(PG['average_movie_rating'].mean(),2)}\"])\n",
    "                plt.ylabel('Movie Rating Comparisons')\n",
    "                plt.show()\n",
    "           \n",
    "        #subfilter\n",
    "            if menu_choice == 4:\n",
    "                print(\"\\nCreate a histogram\")\n",
    "                print(\"['budget', 'gross', 'runtime']\")\n",
    "                menu_choice = input(\"Enter the column to graph: \")\n",
    "                if menu_choice not in ['budget', 'gross', 'runtime']:\n",
    "                    print(\"ERROR: Please enter a column\")\n",
    "                else:\n",
    "                    if menu_choice == 'budget':\n",
    "                        df_1['budget'].hist()\n",
    "                        plt.title(f\"Budget Histogram\")\n",
    "                        plt.ylabel(\"Frequency\")\n",
    "                        plt.show()\n",
    "                    elif menu_choice == 'gross':\n",
    "                        df_1['gross'].hist()\n",
    "                        plt.title(f\"Gross Profit Histogram\")\n",
    "                        plt.ylabel(\"Frequency\")\n",
    "                        plt.show()\n",
    "                    elif menu_choice == 'runtime':\n",
    "                        df_1['runtime'].hist()\n",
    "                        plt.title(f\"Runtime Histogram\")\n",
    "                        plt.ylabel(\"Frequency\")\n",
    "                        plt.show()\n",
    "           \n",
    "        #subfilter\n",
    "            if menu_choice == 5:\n",
    "                print(\"\\nCreate a box plot\") \n",
    "                print(\"Categories\")\n",
    "                print(\"['release year', 'mpaa rating','genre']\")\n",
    "                menu_choice = input(\"Enter the category to graph: \")\n",
    "                if menu_choice not in ['release year', 'mpaa rating','genre']:\n",
    "                    print(\"ERROR: Please enter a category\")\n",
    "                else:\n",
    "                    if menu_choice == 'release year':\n",
    "                        df_1['release_year'].value_counts().plot.bar()\n",
    "                        plt.title(f\"Movie Release Year\")\n",
    "                        plt.ylabel(\"Counts\")\n",
    "                        plt.show()\n",
    "                    elif menu_choice == 'mpaa rating':\n",
    "                        df_1['mpaa_rating'].value_counts().plot.bar()\n",
    "                        plt.title(f\"Movie Mpaa_rating\")\n",
    "                        plt.ylabel(\"Counts\")\n",
    "                        plt.show()\n",
    "                    elif menu_choice == 'genre':\n",
    "                        df_1['genre'].value_counts().plot.bar()\n",
    "                        plt.title(f\"Movie Genre\")\n",
    "                        plt.ylabel(\"Counts\")\n",
    "                        plt.show()\n",
    "           \n",
    "        #output to excel\n",
    "            if menu_choice == 6:\n",
    "                print(\"\\nOutput the average of budget, gross, and runtime to Excel\") \n",
    "                df_Quant = df_1[['budget','gross','runtime']]\n",
    "                xw.apps.add() \n",
    "                wb = xw.Book() \n",
    "                sht = wb.sheets['Sheet1']\n",
    "                sht.range((2,1)).value = 'Average'\n",
    "                sht.range((3,1)).value = 'Min'\n",
    "                sht.range((4,1)).value = 'Max'\n",
    "                sht.range('B1').value = 'budget'\n",
    "                sht.range('C1').value = 'gross'\n",
    "                sht.range('D1').value = 'runtime'\n",
    "                sht.range('B2').value = df_Quant['budget'].mean()\n",
    "                sht.range('C2').value = df_Quant['gross'].mean()\n",
    "                sht.range('D2').value = df_Quant['runtime'].mean()\n",
    "                sht.range('B3').value = df_Quant['budget'].min()\n",
    "                sht.range('C3').value = df_Quant['gross'].min()\n",
    "                sht.range('D3').value = df_Quant['runtime'].min()\n",
    "                sht.range('B4').value = df_Quant['budget'].max()\n",
    "                sht.range('C4').value = df_Quant['gross'].max()\n",
    "                sht.range('D4').value = df_Quant['runtime'].max()\n",
    "                chart = sht.charts.add(left=0, top=100, width=355, height=211)\n",
    "                chart.set_source_data(sht.range('A1:D4'))\n",
    "                wb.save(r'MovieData.xlsx')\n",
    "           \n",
    "        #subfilter\n",
    "            if menu_choice == 7:\n",
    "                print(\"\\nView average movie ratings by mpaa rating\") \n",
    "                print(\"These are the mpaa_ratings\")\n",
    "                print(\"['PG', 'PG-13', 'R']\")\n",
    "                loc_choice = input(\"Enter the mpaa_rating to view: \")\n",
    "                if loc_choice not in ['PG', 'PG-13', 'R']:\n",
    "                    print(\"ERROR: Please enter a mpaa type\")\n",
    "                else:\n",
    "                    if loc_choice == 'PG':\n",
    "                        print(df_1[df_1['mpaa-rating']=='PG'])\n",
    "\n",
    "                    elif loc_choice == 'PG-13':\n",
    "                        print(df1[df1['mpaa_rating']=='PG-13'])\n",
    "\n",
    "                    elif loc_choice == 'R':\n",
    "                        print(df1[df1['mpaa_rating']=='R'])\n",
    "\n",
    "            if menu_choice == 8:\n",
    "                print(\"\\nView average movie ratings that have an 8 or higher\") \n",
    "                print(df_1[df_1['average_movie_rating']>8])\n",
    "                \n",
    "            if menu_choice == 9:\n",
    "                quit = True\n",
    "\n",
    "runMenu(df_1)"
   ]
  },
  {
   "cell_type": "markdown",
   "metadata": {},
   "source": [
    "<font size=\"10\">\n",
    "REPORT "
   ]
  },
  {
   "cell_type": "markdown",
   "metadata": {},
   "source": [
    "<font size=\"5\">\n",
    "Research Questions: "
   ]
  },
  {
   "cell_type": "markdown",
   "metadata": {},
   "source": [
    "<font size=\"3\">\n",
    "Research Q1: As budget increases, does average movie rating increase?"
   ]
  },
  {
   "cell_type": "markdown",
   "metadata": {},
   "source": [
    "<font size=\"3\">\n",
    "Research Q2: Is there a significant difference in average movie ratings based on genre?"
   ]
  },
  {
   "cell_type": "markdown",
   "metadata": {},
   "source": [
    "<font size=\"3\">\n",
    "Research Q3: As runtime increases, does average movie rating increase?"
   ]
  },
  {
   "cell_type": "markdown",
   "metadata": {},
   "source": [
    "<font size=\"2\">\n",
    "QUESTION 1"
   ]
  },
  {
   "cell_type": "code",
   "execution_count": 12,
   "metadata": {},
   "outputs": [
    {
     "name": "stdout",
     "output_type": "stream",
     "text": [
      "\n",
      "Calculate relationship between budget and its effect average movie rating\n",
      "                            OLS Regression Results                            \n",
      "==============================================================================\n",
      "Dep. Variable:                 budget   R-squared:                       0.001\n",
      "Model:                            OLS   Adj. R-squared:                 -0.013\n",
      "Method:                 Least Squares   F-statistic:                   0.06222\n",
      "Date:                Sat, 13 Mar 2021   Prob (F-statistic):              0.804\n",
      "Time:                        21:03:11   Log-Likelihood:                -1320.8\n",
      "No. Observations:                  73   AIC:                             2646.\n",
      "Df Residuals:                      71   BIC:                             2650.\n",
      "Df Model:                           1                                         \n",
      "Covariance Type:            nonrobust                                         \n",
      "========================================================================================\n",
      "                           coef    std err          t      P>|t|      [0.025      0.975]\n",
      "----------------------------------------------------------------------------------------\n",
      "Intercept             2.459e+07   2.17e+07      1.133      0.261   -1.87e+07    6.79e+07\n",
      "average_movie_rating  7.551e+05   3.03e+06      0.249      0.804   -5.28e+06    6.79e+06\n",
      "==============================================================================\n",
      "Omnibus:                       27.457   Durbin-Watson:                   0.735\n",
      "Prob(Omnibus):                  0.000   Jarque-Bera (JB):               45.462\n",
      "Skew:                           1.446   Prob(JB):                     1.34e-10\n",
      "Kurtosis:                       5.565   Cond. No.                         76.5\n",
      "==============================================================================\n",
      "\n",
      "Notes:\n",
      "[1] Standard Errors assume that the covariance matrix of the errors is correctly specified.\n",
      "Coefficients: \n",
      "Intercept               2.458950e+07\n",
      "average_movie_rating    7.551309e+05\n",
      "dtype: float64\n",
      "Coeff X1:  755130.9472333491\n",
      "R2:  0.0008755660318116032\n",
      "F Test Statistic:  0.06221966568441055\n",
      "p-value:  0.8037416876151272\n",
      "t Test Statistics: \n",
      "Intercept               1.133328\n",
      "average_movie_rating    0.249439\n",
      "dtype: float64\n",
      "t p-values: \n",
      "Intercept               0.260889\n",
      "average_movie_rating    0.803742\n",
      "dtype: float64\n",
      "average_movie_rating = 24589497.818 + 755130.947 budget\n"
     ]
    },
    {
     "data": {
      "image/png": "[encoded data removed]",
      "text/plain": [
       "<Figure size 432x288 with 1 Axes>"
      ]
     },
     "metadata": {
      "needs_background": "light"
     },
     "output_type": "display_data"
    },
    {
     "data": {
      "image/png": "[encoded data removed]",
      "text/plain": [
       "<Figure size 432x288 with 1 Axes>"
      ]
     },
     "metadata": {
      "needs_background": "light"
     },
     "output_type": "display_data"
    }
   ],
   "source": [
    "#Research Q1\n",
    "print(\"\\nCalculate relationship between budget and its effect average movie rating\")\n",
    "model1 = ols(\"budget ~ average_movie_rating\",data=df_1).fit()\n",
    "print(model1.summary())\n",
    "xvar = 'budget'\n",
    "yvar = 'average_movie_rating'\n",
    "model = model1\n",
    "print('Coefficients: ') #Parameters\n",
    "print(model.params)\n",
    "intercept = model.params[0]\n",
    "slope = model.params[1]\n",
    "print('Coeff X1: ', slope)\n",
    "r2 = model.rsquared\n",
    "print('R2: ', r2)\n",
    "print('F Test Statistic: ', model.fvalue)\n",
    "reg_p_val = model.f_pvalue\n",
    "print('p-value: ',reg_p_val)\n",
    "print('t Test Statistics: ')\n",
    "print(model.tvalues)\n",
    "print('t p-values: ')\n",
    "print(model.pvalues)\n",
    "if np.sign(slope) < 1:\n",
    "    slsign = \"\"\n",
    "else:\n",
    "    slsign = \"+\"\n",
    "regeq = f\"{yvar} = {round(intercept,3)} {slsign} {round(slope,3)} {xvar}\"\n",
    "print(regeq)\n",
    "x=df_1[xvar]\n",
    "y=df_1[yvar]\n",
    "plt.scatter(x,y,color='black')\n",
    "xyCorr = round(x.corr(y),3)\n",
    "plt.suptitle(f\"Correlation: {xyCorr}  R-Squared: {round(r2,4)}  p-value: {round(reg_p_val,4)}\")\n",
    "plt.title(regeq, size=10)\n",
    "predict_y = intercept + slope * x\n",
    "#predict_y = model.predict() equivalent\n",
    "plt.plot(x,predict_y,'r-')\n",
    "plt.xlabel(xvar)\n",
    "plt.ylabel(yvar)\n",
    "plt.show()\n",
    "resid = model.resid\n",
    "predict_y = model.predict()\n",
    "plt.scatter(predict_y, resid)\n",
    "plt.suptitle(regeq)\n",
    "plt.hlines(0,3.1,4.5) #horizontal line at 0 error\n",
    "plt.ylabel('Residuals')\n",
    "plt.xlabel('Predicted ' + yvar)\n",
    "plt.show()                "
   ]
  },
  {
   "cell_type": "markdown",
   "metadata": {},
   "source": [
    "<font size=\"2\">\n",
    "QUESTION 1 CONCLUSION:"
   ]
  },
  {
   "cell_type": "markdown",
   "metadata": {},
   "source": [
    "By looking at this scatterplot along with the R-squared statistic, my conclusion is that there is not a corrrelation between the movie's budget to the movie's average movie rating. The R-squared statistic is 0.001 which means it is extremely close to 0.00. When our R-squared is close to 0, it means that there is no relationship between these two variables. In conclusion, if budget were to increase, it does not mean that the movie's average movie rating will increase as well. Thinking about it realistically, it also makes sense that if a movie received a huge budget, there are no promises that the movie will do well. This also could just be the lack of a large database to view the correlation. "
   ]
  },
  {
   "cell_type": "markdown",
   "metadata": {},
   "source": [
    "<font size=\"2\">\n",
    "QUESTION 2"
   ]
  },
  {
   "cell_type": "code",
   "execution_count": 23,
   "metadata": {},
   "outputs": [
    {
     "name": "stdout",
     "output_type": "stream",
     "text": [
      "The groups are Romance and Comedy and Action and Family\n",
      "This is a test of equal means with Ho: The means of all groups are equal/Ha: At least one group mean is different\n",
      "The F test statistic is 3.601 and the p-value is 0.0177\n",
      "Conclusion: Reject Ho: At least one group mean is different\n"
     ]
    },
    {
     "data": {
      "image/png": "[encoded data removed]",
      "text/plain": [
       "<Figure size 432x288 with 1 Axes>"
      ]
     },
     "metadata": {
      "needs_background": "light"
     },
     "output_type": "display_data"
    },
    {
     "name": "stdout",
     "output_type": "stream",
     "text": [
      "Ho: The group means are equal\n",
      " Multiple Comparison of Means - Tukey HSD, FWER=0.05 \n",
      "=====================================================\n",
      "group1  group2 meandiff p-adj   lower   upper  reject\n",
      "-----------------------------------------------------\n",
      "Action  Comedy  -0.2806 0.5059   -0.81  0.2489  False\n",
      "Action  Family   0.3128  0.412 -0.2166  0.8422  False\n",
      "Action Romance   -0.552 0.1827 -1.2636  0.1596  False\n",
      "Comedy  Family   0.5933 0.0716 -0.0357  1.2224  False\n",
      "Comedy Romance  -0.2714 0.7773   -1.06  0.5171  False\n",
      "Family Romance  -0.8648 0.0261 -1.6533 -0.0762   True\n",
      "-----------------------------------------------------\n"
     ]
    },
    {
     "name": "stderr",
     "output_type": "stream",
     "text": [
      "C:\\Users\\yentr\\anaconda3\\lib\\site-packages\\statsmodels\\sandbox\\stats\\multicomp.py:775: UserWarning: FixedFormatter should only be used together with FixedLocator\n",
      "  ax1.set_yticklabels(np.insert(self.groupsunique.astype(str), 0, ''))\n"
     ]
    },
    {
     "data": {
      "image/png": "[encoded data removed]",
      "text/plain": [
       "<Figure size 720x432 with 1 Axes>"
      ]
     },
     "metadata": {
      "needs_background": "light"
     },
     "output_type": "display_data"
    }
   ],
   "source": [
    "#Research Q2\n",
    "StatTests.MeansTest(df_1,'genre','average_movie_rating')"
   ]
  },
  {
   "cell_type": "markdown",
   "metadata": {},
   "source": [
    "<font size=\"2\">\n",
    "QUESTION 2 CONCLUSION:"
   ]
  },
  {
   "cell_type": "markdown",
   "metadata": {},
   "source": [
    "In this case, there is a significant difference in average movie ratings based on the various genres. We can conclude that at least one group mean is different. Then, we can confirm our conclusion by looking at the box plots and tukey plot. As we can see, the box plots vary from size, length, mean, etc. The comedy box plot is relatively short when comparing it to the other genres which could mean that the ratings were more in agreement with each other whereas the tall box plots like romance, action, and family could have had varying opinions on the movies within the genre. Our lowest mean rating within a genre is romance with a 6.63 and our highest is a 7.49 in the family genre. Looking at it overall, based on the genre, the average movie rating does seem to differ significantly. With that being said, we might want to conduct more research into what factors play a part of impacting the movie rating within each genre. "
   ]
  },
  {
   "cell_type": "markdown",
   "metadata": {},
   "source": [
    "<font size=\"2\">\n",
    "QUESTION 3"
   ]
  },
  {
   "cell_type": "code",
   "execution_count": 26,
   "metadata": {},
   "outputs": [
    {
     "name": "stdout",
     "output_type": "stream",
     "text": [
      "\n",
      "Calculate relationship between runtime and its effect average movie rating\n",
      "                             OLS Regression Results                             \n",
      "================================================================================\n",
      "Dep. Variable:     average_movie_rating   R-squared:                       0.073\n",
      "Model:                              OLS   Adj. R-squared:                  0.060\n",
      "Method:                   Least Squares   F-statistic:                     5.579\n",
      "Date:                  Sat, 13 Mar 2021   Prob (F-statistic):             0.0209\n",
      "Time:                          21:37:31   Log-Likelihood:                -73.108\n",
      "No. Observations:                    73   AIC:                             150.2\n",
      "Df Residuals:                        71   BIC:                             154.8\n",
      "Df Model:                             1                                         \n",
      "Covariance Type:              nonrobust                                         \n",
      "==============================================================================\n",
      "                 coef    std err          t      P>|t|      [0.025      0.975]\n",
      "------------------------------------------------------------------------------\n",
      "Intercept      6.0942      0.447     13.627      0.000       5.202       6.986\n",
      "runtime        0.0090      0.004      2.362      0.021       0.001       0.017\n",
      "==============================================================================\n",
      "Omnibus:                        0.957   Durbin-Watson:                   2.064\n",
      "Prob(Omnibus):                  0.620   Jarque-Bera (JB):                0.897\n",
      "Skew:                           0.023   Prob(JB):                        0.639\n",
      "Kurtosis:                       2.459   Cond. No.                         670.\n",
      "==============================================================================\n",
      "\n",
      "Notes:\n",
      "[1] Standard Errors assume that the covariance matrix of the errors is correctly specified.\n",
      "Coefficients: \n",
      "Intercept    6.094181\n",
      "runtime      0.009020\n",
      "dtype: float64\n",
      "Coeff X1:  0.009020405969988836\n",
      "R2:  0.07285804326385437\n",
      "F Test Statistic:  5.579427221635078\n",
      "p-value:  0.020918157907581322\n",
      "t Test Statistics: \n",
      "Intercept    13.627321\n",
      "runtime       2.362081\n",
      "dtype: float64\n",
      "t p-values: \n",
      "Intercept    1.689122e-21\n",
      "runtime      2.091816e-02\n",
      "dtype: float64\n",
      "runtime = 6.094 + 0.009 average_movie_rating\n"
     ]
    },
    {
     "data": {
      "image/png": "[encoded data removed]",
      "text/plain": [
       "<Figure size 432x288 with 1 Axes>"
      ]
     },
     "metadata": {
      "needs_background": "light"
     },
     "output_type": "display_data"
    },
    {
     "data": {
      "image/png": "[encoded data removed]",
      "text/plain": [
       "<Figure size 432x288 with 1 Axes>"
      ]
     },
     "metadata": {
      "needs_background": "light"
     },
     "output_type": "display_data"
    }
   ],
   "source": [
    "print(\"\\nCalculate relationship between runtime and its effect average movie rating\")\n",
    "model2 = ols(\"average_movie_rating ~ runtime\",data=df_1).fit()\n",
    "print(model2.summary())\n",
    "xvar = 'average_movie_rating'\n",
    "yvar = 'runtime'\n",
    "model = model2\n",
    "print('Coefficients: ') #Parameters\n",
    "print(model.params)\n",
    "intercept = model.params[0]\n",
    "slope = model.params[1]\n",
    "print('Coeff X1: ', slope)\n",
    "r2 = model.rsquared\n",
    "print('R2: ', r2)\n",
    "print('F Test Statistic: ', model.fvalue)\n",
    "reg_p_val = model.f_pvalue\n",
    "print('p-value: ',reg_p_val)\n",
    "print('t Test Statistics: ')\n",
    "print(model.tvalues)\n",
    "print('t p-values: ')\n",
    "print(model.pvalues)\n",
    "if np.sign(slope) < 1:\n",
    "    slsign = \"\"\n",
    "else:\n",
    "    slsign = \"+\"\n",
    "regeq = f\"{yvar} = {round(intercept,3)} {slsign} {round(slope,3)} {xvar}\"\n",
    "print(regeq)\n",
    "x=df_1[xvar]\n",
    "y=df_1[yvar]\n",
    "plt.scatter(x,y,color='black')\n",
    "xyCorr = round(x.corr(y),3)\n",
    "plt.suptitle(f\"Correlation: {xyCorr}  R-Squared: {round(r2,4)}  p-value: {round(reg_p_val,4)}\")\n",
    "plt.title(regeq, size=10)\n",
    "predict_y = intercept + slope * x\n",
    "#predict_y = model.predict() equivalent\n",
    "plt.plot(x,predict_y,'r-')\n",
    "plt.xlabel(xvar)\n",
    "plt.ylabel(yvar)\n",
    "plt.show()\n",
    "resid = model.resid\n",
    "predict_y = model.predict()\n",
    "plt.scatter(predict_y, resid)\n",
    "plt.suptitle(regeq)\n",
    "plt.hlines(0,3.1,4.5) #horizontal line at 0 error\n",
    "plt.ylabel('Residuals')\n",
    "plt.xlabel('Predicted ' + yvar)\n",
    "plt.show()  "
   ]
  },
  {
   "cell_type": "markdown",
   "metadata": {},
   "source": [
    "<font size=\"2\">\n",
    "QUESTION 3 CONCLUSION:"
   ]
  },
  {
   "cell_type": "markdown",
   "metadata": {},
   "source": [
    "By looking at the graphical representation of this regression test, I can conclude that there is no direct correlation between the runtime of a movie and its' average movie rating. That is because the average movie rating coefficient is at 0.009. If the runtime were to increase by 6 minutes, the movie rating would barely increase. Also, the plot does not show a clear negative or positive slope, but is just scattered around through the graph. Comparing it to my first research question that looked at budget and movie rating, the R-Squared was almost close to 0 which means no correlation. This test shows a higher R-squared of 0.073, but still very low. As for my p-value, it shows a  value of 0.02 which is lower than alpha(0.05). If the null hypothesis were to say there was no relationship between the two variables (runtime and average movie rating), we would reject the null hypothesis as our p-value indicates that the data is statistcally significant. More tests would have to be done to understand the relationship between these two variables. "
   ]
  },
  {
   "cell_type": "markdown",
   "metadata": {},
   "source": [
    "<font size=\"5\">\n",
    "FINAL CONCLUSIONS:"
   ]
  },
  {
   "cell_type": "markdown",
   "metadata": {},
   "source": [
    "From the data analysis, there can be a lot of factors that impact the overall average movie rating. I focused on mainly the average movie rating, and then used variables like genre, budget, gross,mpaa rating, runtime, etc to see if it would increase or decrease the movie rating. From my research, it seems that budget and gross do not illustrate a change within the movie rating whereas genre does. Based on the genre, the average movie rating can significantly change. For example, the romance genre was not lacking any data, but the rating is much lower that the average rating of the family genre. In addition, I found the menu option 3 especially interesting as it examined if the mpaa rating impacted the movie ratings. From the box plot, PG movies seemed to have an overall higher rating than PG-13 movies. I would have to do more research to see if the same would go for rated R movies as well. Even though I found some valuable conclusions today, there would need to be more research and data to fully understand what other factors impacts the movie rating. "
   ]
  }
 ],
 "metadata": {
  "kernelspec": {
   "display_name": "Python 3",
   "language": "python",
   "name": "python3"
  },
  "language_info": {
   "codemirror_mode": {
    "name": "ipython",
    "version": 3
   },
   "file_extension": ".py",
   "mimetype": "text/x-python",
   "name": "python",
   "nbconvert_exporter": "python",
   "pygments_lexer": "ipython3",
   "version": "3.8.5"
  }
 },
 "nbformat": 4,
 "nbformat_minor": 4
}
